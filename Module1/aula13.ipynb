{
 "cells": [
  {
   "cell_type": "code",
   "execution_count": 49,
   "metadata": {},
   "outputs": [],
   "source": [
    "import re\n",
    "def names():\n",
    "    simple_string = \"\"\"Amy is 5 years old, and her sister Mary is 2 years old. \n",
    "    Ruth and Peter, their parents, have 3 kids.\"\"\"\n",
    "\n",
    "    # YOUR CODE HERE\n",
    "    return re.findall('Amy|Mary|Ruth|Peter', simple_string)\n",
    "    raise NotImplementedError()"
   ]
  },
  {
   "cell_type": "code",
   "execution_count": 50,
   "metadata": {},
   "outputs": [
    {
     "data": {
      "text/plain": [
       "['Amy', 'Mary', 'Ruth', 'Peter']"
      ]
     },
     "execution_count": 50,
     "metadata": {},
     "output_type": "execute_result"
    }
   ],
   "source": [
    "names()"
   ]
  },
  {
   "cell_type": "code",
   "execution_count": 133,
   "metadata": {},
   "outputs": [
    {
     "name": "stderr",
     "output_type": "stream",
     "text": [
      "<>:1: SyntaxWarning: invalid escape sequence '\\:'\n",
      "<>:1: SyntaxWarning: invalid escape sequence '\\:'\n",
      "C:\\Users\\kauek\\AppData\\Local\\Temp\\ipykernel_6612\\442544678.py:1: SyntaxWarning: invalid escape sequence '\\:'\n",
      "  pattern=\"\"\"(?P<name>.*)(\\: )(B)\"\"\"\n"
     ]
    }
   ],
   "source": [
    "pattern=\"\"\"(?P<name>.*)(\\: )(B)\"\"\"\n",
    "\n",
    "def grades():\n",
    "    with open (\"DataOfModule1/grades.txt\", \"r\") as file:\n",
    "        grades_ = file.read()\n",
    "    \n",
    "    students=[]\n",
    "    # YOUR CODE HERE\n",
    "    for item in re.finditer(pattern,grades_):\n",
    "        students.append(item.groups())\n",
    "    return students\n",
    "    raise NotImplementedError()"
   ]
  },
  {
   "cell_type": "code",
   "execution_count": 134,
   "metadata": {},
   "outputs": [
    {
     "name": "stdout",
     "output_type": "stream",
     "text": [
      "16\n"
     ]
    }
   ],
   "source": [
    "print(len(grades()))\n",
    "    \n"
   ]
  },
  {
   "cell_type": "code",
   "execution_count": 139,
   "metadata": {},
   "outputs": [],
   "source": [
    "def logs():\n",
    "    with open(\"DataOfModule1/logdata.txt\", \"r\") as file:\n",
    "        logdata = file.read()\n",
    "    \n",
    "    # YOUR CODE HERE\n",
    "    pattern = r'(?P<host>\\S+) - (?P<user_name>\\S+) \\[(?P<time>[^\\]]+)\\] \"(?P<request>[^\"]+)\"'\n",
    "    item_=[]\n",
    "    for item in re.finditer(pattern, logdata):\n",
    "        item_.append(item.groupdict())\n",
    "    return item_\n",
    "    raise NotImplementedError()\n",
    "\n",
    "\n",
    "def logs():\n",
    "    # Abre o arquivo de log em modo leitura\n",
    "    with open(\"assets/logdata.txt\", \"r\") as file:\n",
    "        logdata = file.read()\n",
    "\n",
    "    # Define o padrão para corresponder a cada entrada de log\n",
    "    pattern = r'(?P<host>\\S+) - (?P<user_name>[^ ]*) \\[(?P<time>[^\\]]+)\\] \"(?P<request>[^\"]+)\"'\n",
    "\n",
    "    # Encontra todas as correspondências usando o padrão\n",
    "    item_list = []\n",
    "    for match in re.finditer(pattern, logdata):\n",
    "        item = match.groupdict()\n",
    "        # Garante que user_name é '-' se estiver vazio\n",
    "        if item[\"user_name\"] == '':\n",
    "            item[\"user_name\"] = '-'\n",
    "        item_list.append(item)\n",
    "\n",
    "    return item_list"
   ]
  },
  {
   "cell_type": "code",
   "execution_count": 140,
   "metadata": {},
   "outputs": [
    {
     "ename": "FileNotFoundError",
     "evalue": "[Errno 2] No such file or directory: 'assets/logdata.txt'",
     "output_type": "error",
     "traceback": [
      "\u001b[1;31m---------------------------------------------------------------------------\u001b[0m",
      "\u001b[1;31mFileNotFoundError\u001b[0m                         Traceback (most recent call last)",
      "Cell \u001b[1;32mIn[140], line 1\u001b[0m\n\u001b[1;32m----> 1\u001b[0m \u001b[43mlogs\u001b[49m\u001b[43m(\u001b[49m\u001b[43m)\u001b[49m\n",
      "Cell \u001b[1;32mIn[139], line 16\u001b[0m, in \u001b[0;36mlogs\u001b[1;34m()\u001b[0m\n\u001b[0;32m     14\u001b[0m \u001b[38;5;28;01mdef\u001b[39;00m \u001b[38;5;21mlogs\u001b[39m():\n\u001b[0;32m     15\u001b[0m     \u001b[38;5;66;03m# Abre o arquivo de log em modo leitura\u001b[39;00m\n\u001b[1;32m---> 16\u001b[0m     \u001b[38;5;28;01mwith\u001b[39;00m \u001b[38;5;28;43mopen\u001b[39;49m\u001b[43m(\u001b[49m\u001b[38;5;124;43m\"\u001b[39;49m\u001b[38;5;124;43massets/logdata.txt\u001b[39;49m\u001b[38;5;124;43m\"\u001b[39;49m\u001b[43m,\u001b[49m\u001b[43m \u001b[49m\u001b[38;5;124;43m\"\u001b[39;49m\u001b[38;5;124;43mr\u001b[39;49m\u001b[38;5;124;43m\"\u001b[39;49m\u001b[43m)\u001b[49m \u001b[38;5;28;01mas\u001b[39;00m file:\n\u001b[0;32m     17\u001b[0m         logdata \u001b[38;5;241m=\u001b[39m file\u001b[38;5;241m.\u001b[39mread()\n\u001b[0;32m     19\u001b[0m     \u001b[38;5;66;03m# Define o padrão para corresponder a cada entrada de log\u001b[39;00m\n",
      "File \u001b[1;32mc:\\Users\\kauek\\OneDrive\\Área de Trabalho\\DataScienceUM\\venv\\Lib\\site-packages\\IPython\\core\\interactiveshell.py:324\u001b[0m, in \u001b[0;36m_modified_open\u001b[1;34m(file, *args, **kwargs)\u001b[0m\n\u001b[0;32m    317\u001b[0m \u001b[38;5;28;01mif\u001b[39;00m file \u001b[38;5;129;01min\u001b[39;00m {\u001b[38;5;241m0\u001b[39m, \u001b[38;5;241m1\u001b[39m, \u001b[38;5;241m2\u001b[39m}:\n\u001b[0;32m    318\u001b[0m     \u001b[38;5;28;01mraise\u001b[39;00m \u001b[38;5;167;01mValueError\u001b[39;00m(\n\u001b[0;32m    319\u001b[0m         \u001b[38;5;124mf\u001b[39m\u001b[38;5;124m\"\u001b[39m\u001b[38;5;124mIPython won\u001b[39m\u001b[38;5;124m'\u001b[39m\u001b[38;5;124mt let you open fd=\u001b[39m\u001b[38;5;132;01m{\u001b[39;00mfile\u001b[38;5;132;01m}\u001b[39;00m\u001b[38;5;124m by default \u001b[39m\u001b[38;5;124m\"\u001b[39m\n\u001b[0;32m    320\u001b[0m         \u001b[38;5;124m\"\u001b[39m\u001b[38;5;124mas it is likely to crash IPython. If you know what you are doing, \u001b[39m\u001b[38;5;124m\"\u001b[39m\n\u001b[0;32m    321\u001b[0m         \u001b[38;5;124m\"\u001b[39m\u001b[38;5;124myou can use builtins\u001b[39m\u001b[38;5;124m'\u001b[39m\u001b[38;5;124m open.\u001b[39m\u001b[38;5;124m\"\u001b[39m\n\u001b[0;32m    322\u001b[0m     )\n\u001b[1;32m--> 324\u001b[0m \u001b[38;5;28;01mreturn\u001b[39;00m \u001b[43mio_open\u001b[49m\u001b[43m(\u001b[49m\u001b[43mfile\u001b[49m\u001b[43m,\u001b[49m\u001b[43m \u001b[49m\u001b[38;5;241;43m*\u001b[39;49m\u001b[43margs\u001b[49m\u001b[43m,\u001b[49m\u001b[43m \u001b[49m\u001b[38;5;241;43m*\u001b[39;49m\u001b[38;5;241;43m*\u001b[39;49m\u001b[43mkwargs\u001b[49m\u001b[43m)\u001b[49m\n",
      "\u001b[1;31mFileNotFoundError\u001b[0m: [Errno 2] No such file or directory: 'assets/logdata.txt'"
     ]
    }
   ],
   "source": [
    "logs()"
   ]
  },
  {
   "cell_type": "code",
   "execution_count": null,
   "metadata": {},
   "outputs": [],
   "source": []
  }
 ],
 "metadata": {
  "kernelspec": {
   "display_name": "venv",
   "language": "python",
   "name": "python3"
  },
  "language_info": {
   "codemirror_mode": {
    "name": "ipython",
    "version": 3
   },
   "file_extension": ".py",
   "mimetype": "text/x-python",
   "name": "python",
   "nbconvert_exporter": "python",
   "pygments_lexer": "ipython3",
   "version": "3.12.2"
  }
 },
 "nbformat": 4,
 "nbformat_minor": 2
}
